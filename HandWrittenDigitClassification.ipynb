{
  "nbformat": 4,
  "nbformat_minor": 0,
  "metadata": {
    "colab": {
      "provenance": []
    },
    "kernelspec": {
      "name": "python3",
      "display_name": "Python 3"
    },
    "language_info": {
      "name": "python"
    }
  },
  "cells": [
    {
      "cell_type": "markdown",
      "source": [
        "#**Hand Written Digit Prediction - Classification Analysis**"
      ],
      "metadata": {
        "id": "NKp5jw_ukOgg"
      }
    },
    {
      "cell_type": "markdown",
      "source": [
        "Objectives\n",
        "\n",
        "    To build a machine learning model that can accurately classify handwritten digits.\n",
        "    To explore different machine learning algorithms for handwritten digit classification.\n",
        "    To evaluate the performance of the chosen machine learning model.\n",
        "     "
      ],
      "metadata": {
        "id": "PS2QvUS8krLp"
      }
    },
    {
      "cell_type": "markdown",
      "source": [
        "##**Import Library**##"
      ],
      "metadata": {
        "id": "PlO78R3YmFLI"
      }
    },
    {
      "cell_type": "code",
      "execution_count": 1,
      "metadata": {
        "id": "7UmVXwr4dyLU"
      },
      "outputs": [],
      "source": [
        "import pandas as pd\n",
        "import numpy as np\n",
        "import matplotlib.pyplot as plt"
      ]
    },
    {
      "cell_type": "markdown",
      "source": [
        "##**Import Data**##"
      ],
      "metadata": {
        "id": "6M3NocQ7mWSp"
      }
    },
    {
      "cell_type": "code",
      "source": [
        "from sklearn.datasets import load_digits"
      ],
      "metadata": {
        "id": "iSC-Gf7yeUb3"
      },
      "execution_count": 2,
      "outputs": []
    },
    {
      "cell_type": "code",
      "source": [
        "digit = load_digits()"
      ],
      "metadata": {
        "id": "A2HqXj2gfDv2"
      },
      "execution_count": 4,
      "outputs": []
    },
    {
      "cell_type": "code",
      "source": [
        "_, axes = plt.subplots(nrows=1, ncols=4, figsize=(10, 3))\n",
        "for ax, image, label in zip(axes, digit.images, digit.target):\n",
        "  ax.set_axis_off()\n",
        "  ax.imshow(image,cmap=plt.cm.gray_r,interpolation=\"nearest\")\n",
        "  ax.set_title(\"Training: %i\" % label)"
      ],
      "metadata": {
        "colab": {
          "base_uri": "https://localhost:8080/",
          "height": 227
        },
        "id": "JLLqJGVFfJs_",
        "outputId": "84cd13f5-136e-41e8-a663-67c4e582d546"
      },
      "execution_count": 33,
      "outputs": [
        {
          "output_type": "display_data",
          "data": {
            "text/plain": [
              "<Figure size 1000x300 with 4 Axes>"
            ],
            "image/png": "[encoded data removed]"
          },
          "metadata": {}
        }
      ]
    },
    {
      "cell_type": "markdown",
      "source": [
        "##**Data Preprocessing**##"
      ],
      "metadata": {
        "id": "H7qVXC1lm38P"
      }
    },
    {
      "cell_type": "code",
      "source": [
        "digit.images.shape"
      ],
      "metadata": {
        "colab": {
          "base_uri": "https://localhost:8080/"
        },
        "id": "j5rJ-NW1gh8H",
        "outputId": "26e7b22e-767f-4d8b-dd9f-b6a334f41a3a"
      },
      "execution_count": 7,
      "outputs": [
        {
          "output_type": "execute_result",
          "data": {
            "text/plain": [
              "(1797, 8, 8)"
            ]
          },
          "metadata": {},
          "execution_count": 7
        }
      ]
    },
    {
      "cell_type": "code",
      "source": [
        "digit.images[0]"
      ],
      "metadata": {
        "colab": {
          "base_uri": "https://localhost:8080/"
        },
        "id": "dag4fFfngq_q",
        "outputId": "c906403b-2dea-45a9-e7fe-83db38088630"
      },
      "execution_count": 8,
      "outputs": [
        {
          "output_type": "execute_result",
          "data": {
            "text/plain": [
              "array([[ 0.,  0.,  5., 13.,  9.,  1.,  0.,  0.],\n",
              "       [ 0.,  0., 13., 15., 10., 15.,  5.,  0.],\n",
              "       [ 0.,  3., 15.,  2.,  0., 11.,  8.,  0.],\n",
              "       [ 0.,  4., 12.,  0.,  0.,  8.,  8.,  0.],\n",
              "       [ 0.,  5.,  8.,  0.,  0.,  9.,  8.,  0.],\n",
              "       [ 0.,  4., 11.,  0.,  1., 12.,  7.,  0.],\n",
              "       [ 0.,  2., 14.,  5., 10., 12.,  0.,  0.],\n",
              "       [ 0.,  0.,  6., 13., 10.,  0.,  0.,  0.]])"
            ]
          },
          "metadata": {},
          "execution_count": 8
        }
      ]
    },
    {
      "cell_type": "code",
      "source": [
        "digit.images[0].shape"
      ],
      "metadata": {
        "colab": {
          "base_uri": "https://localhost:8080/"
        },
        "id": "lp6VJ3z2guFy",
        "outputId": "ab7de5f8-f3bf-4ae8-b357-2a9d3c623b68"
      },
      "execution_count": 9,
      "outputs": [
        {
          "output_type": "execute_result",
          "data": {
            "text/plain": [
              "(8, 8)"
            ]
          },
          "metadata": {},
          "execution_count": 9
        }
      ]
    },
    {
      "cell_type": "code",
      "source": [
        "len(digit.images)"
      ],
      "metadata": {
        "colab": {
          "base_uri": "https://localhost:8080/"
        },
        "id": "_2d_ZeuQg2LT",
        "outputId": "1093010a-9a3e-4dc3-d716-9134dc701f27"
      },
      "execution_count": 10,
      "outputs": [
        {
          "output_type": "execute_result",
          "data": {
            "text/plain": [
              "1797"
            ]
          },
          "metadata": {},
          "execution_count": 10
        }
      ]
    },
    {
      "cell_type": "code",
      "source": [
        "n_samples = len(digit.images)\n",
        "data = digit.images.reshape((n_samples, -1))"
      ],
      "metadata": {
        "id": "tz6b-Kb9g52h"
      },
      "execution_count": 11,
      "outputs": []
    },
    {
      "cell_type": "code",
      "source": [
        "data[0]"
      ],
      "metadata": {
        "colab": {
          "base_uri": "https://localhost:8080/"
        },
        "id": "lKRWhxC2hNBx",
        "outputId": "2eee973c-9056-4748-f0f7-2e68ded25578"
      },
      "execution_count": 12,
      "outputs": [
        {
          "output_type": "execute_result",
          "data": {
            "text/plain": [
              "array([ 0.,  0.,  5., 13.,  9.,  1.,  0.,  0.,  0.,  0., 13., 15., 10.,\n",
              "       15.,  5.,  0.,  0.,  3., 15.,  2.,  0., 11.,  8.,  0.,  0.,  4.,\n",
              "       12.,  0.,  0.,  8.,  8.,  0.,  0.,  5.,  8.,  0.,  0.,  9.,  8.,\n",
              "        0.,  0.,  4., 11.,  0.,  1., 12.,  7.,  0.,  0.,  2., 14.,  5.,\n",
              "       10., 12.,  0.,  0.,  0.,  0.,  6., 13., 10.,  0.,  0.,  0.])"
            ]
          },
          "metadata": {},
          "execution_count": 12
        }
      ]
    },
    {
      "cell_type": "code",
      "source": [
        "data[0].shape"
      ],
      "metadata": {
        "colab": {
          "base_uri": "https://localhost:8080/"
        },
        "id": "AZyBiwYEhOuv",
        "outputId": "e60e0ab1-4388-455a-85fa-c51642f36fb4"
      },
      "execution_count": 13,
      "outputs": [
        {
          "output_type": "execute_result",
          "data": {
            "text/plain": [
              "(64,)"
            ]
          },
          "metadata": {},
          "execution_count": 13
        }
      ]
    },
    {
      "cell_type": "code",
      "source": [
        "data.shape"
      ],
      "metadata": {
        "colab": {
          "base_uri": "https://localhost:8080/"
        },
        "id": "D5iPaGD-hWwk",
        "outputId": "c9a5f2b8-1c27-4021-c813-23882b30ba0f"
      },
      "execution_count": 14,
      "outputs": [
        {
          "output_type": "execute_result",
          "data": {
            "text/plain": [
              "(1797, 64)"
            ]
          },
          "metadata": {},
          "execution_count": 14
        }
      ]
    },
    {
      "cell_type": "markdown",
      "source": [
        "##**Scaling Image Data**##"
      ],
      "metadata": {
        "id": "9dfMEwvqnQvG"
      }
    },
    {
      "cell_type": "code",
      "source": [
        "data.min()"
      ],
      "metadata": {
        "colab": {
          "base_uri": "https://localhost:8080/"
        },
        "id": "pgxjdQHYhYHh",
        "outputId": "5c52c40b-4e31-47d5-c1fd-74743e86b2ce"
      },
      "execution_count": 15,
      "outputs": [
        {
          "output_type": "execute_result",
          "data": {
            "text/plain": [
              "0.0"
            ]
          },
          "metadata": {},
          "execution_count": 15
        }
      ]
    },
    {
      "cell_type": "code",
      "source": [
        "data.max()"
      ],
      "metadata": {
        "colab": {
          "base_uri": "https://localhost:8080/"
        },
        "id": "8nfckwuWiB7Z",
        "outputId": "832af226-cf12-4768-cccd-b1ccaf019029"
      },
      "execution_count": 16,
      "outputs": [
        {
          "output_type": "execute_result",
          "data": {
            "text/plain": [
              "16.0"
            ]
          },
          "metadata": {},
          "execution_count": 16
        }
      ]
    },
    {
      "cell_type": "code",
      "source": [
        "data = data/16"
      ],
      "metadata": {
        "id": "q3pQZ3giiEq8"
      },
      "execution_count": 17,
      "outputs": []
    },
    {
      "cell_type": "code",
      "source": [
        "data.min()"
      ],
      "metadata": {
        "colab": {
          "base_uri": "https://localhost:8080/"
        },
        "id": "jZHU1GJoiLTo",
        "outputId": "096687ab-8455-470f-fdb9-82d14a7aa06d"
      },
      "execution_count": 18,
      "outputs": [
        {
          "output_type": "execute_result",
          "data": {
            "text/plain": [
              "0.0"
            ]
          },
          "metadata": {},
          "execution_count": 18
        }
      ]
    },
    {
      "cell_type": "code",
      "source": [
        "data.max()"
      ],
      "metadata": {
        "colab": {
          "base_uri": "https://localhost:8080/"
        },
        "id": "yzf6vyANiOR4",
        "outputId": "6f2ebe2f-da20-42a5-cb1f-b0df0c01620f"
      },
      "execution_count": 19,
      "outputs": [
        {
          "output_type": "execute_result",
          "data": {
            "text/plain": [
              "1.0"
            ]
          },
          "metadata": {},
          "execution_count": 19
        }
      ]
    },
    {
      "cell_type": "code",
      "source": [
        "data[0]"
      ],
      "metadata": {
        "colab": {
          "base_uri": "https://localhost:8080/"
        },
        "id": "IsJOanbmiQzE",
        "outputId": "3a1aa53f-9443-47ca-fc16-c50b7304d5a1"
      },
      "execution_count": 20,
      "outputs": [
        {
          "output_type": "execute_result",
          "data": {
            "text/plain": [
              "array([0.    , 0.    , 0.3125, 0.8125, 0.5625, 0.0625, 0.    , 0.    ,\n",
              "       0.    , 0.    , 0.8125, 0.9375, 0.625 , 0.9375, 0.3125, 0.    ,\n",
              "       0.    , 0.1875, 0.9375, 0.125 , 0.    , 0.6875, 0.5   , 0.    ,\n",
              "       0.    , 0.25  , 0.75  , 0.    , 0.    , 0.5   , 0.5   , 0.    ,\n",
              "       0.    , 0.3125, 0.5   , 0.    , 0.    , 0.5625, 0.5   , 0.    ,\n",
              "       0.    , 0.25  , 0.6875, 0.    , 0.0625, 0.75  , 0.4375, 0.    ,\n",
              "       0.    , 0.125 , 0.875 , 0.3125, 0.625 , 0.75  , 0.    , 0.    ,\n",
              "       0.    , 0.    , 0.375 , 0.8125, 0.625 , 0.    , 0.    , 0.    ])"
            ]
          },
          "metadata": {},
          "execution_count": 20
        }
      ]
    },
    {
      "cell_type": "markdown",
      "source": [
        "##**Train Test Split**##"
      ],
      "metadata": {
        "id": "w3vKvFw5nakj"
      }
    },
    {
      "cell_type": "code",
      "source": [
        "from sklearn.model_selection import train_test_split"
      ],
      "metadata": {
        "id": "5-_IJ_xJiWbW"
      },
      "execution_count": 21,
      "outputs": []
    },
    {
      "cell_type": "code",
      "source": [
        "x_train, x_test, y_train, y_test = train_test_split(data, digit.target, test_size=0.3)"
      ],
      "metadata": {
        "id": "96CUYBKSie4Q"
      },
      "execution_count": 22,
      "outputs": []
    },
    {
      "cell_type": "code",
      "source": [
        "x_train.shape, x_test.shape, y_train.shape, y_test.shape"
      ],
      "metadata": {
        "colab": {
          "base_uri": "https://localhost:8080/"
        },
        "id": "26aa3d19ivEb",
        "outputId": "20cf8399-8516-4e53-a8c6-c55aa3dec270"
      },
      "execution_count": 23,
      "outputs": [
        {
          "output_type": "execute_result",
          "data": {
            "text/plain": [
              "((1257, 64), (540, 64), (1257,), (540,))"
            ]
          },
          "metadata": {},
          "execution_count": 23
        }
      ]
    },
    {
      "cell_type": "markdown",
      "source": [
        "##**Modeling**##"
      ],
      "metadata": {
        "id": "2u8rMsIEnz0m"
      }
    },
    {
      "cell_type": "markdown",
      "source": [
        "###**Random Forest Model**###"
      ],
      "metadata": {
        "id": "zcUhsSvvn5nH"
      }
    },
    {
      "cell_type": "code",
      "source": [
        "from sklearn.ensemble import RandomForestClassifier"
      ],
      "metadata": {
        "id": "ECPZ6iY6i30w"
      },
      "execution_count": 24,
      "outputs": []
    },
    {
      "cell_type": "code",
      "source": [
        "model = RandomForestClassifier()"
      ],
      "metadata": {
        "id": "CNIfpAJIjA_V"
      },
      "execution_count": 26,
      "outputs": []
    },
    {
      "cell_type": "code",
      "source": [
        "model.fit(x_train, y_train)"
      ],
      "metadata": {
        "colab": {
          "base_uri": "https://localhost:8080/",
          "height": 74
        },
        "id": "eZFJ3NbEjHXK",
        "outputId": "9003021d-7776-4785-a91b-83712bdfed70"
      },
      "execution_count": 27,
      "outputs": [
        {
          "output_type": "execute_result",
          "data": {
            "text/plain": [
              "RandomForestClassifier()"
            ],
            "text/html": [
              "<style>#sk-container-id-1 {color: black;background-color: white;}#sk-container-id-1 pre{padding: 0;}#sk-container-id-1 div.sk-toggleable {background-color: white;}#sk-container-id-1 label.sk-toggleable__label {cursor: pointer;display: block;width: 100%;margin-bottom: 0;padding: 0.3em;box-sizing: border-box;text-align: center;}#sk-container-id-1 label.sk-toggleable__label-arrow:before {content: \"▸\";float: left;margin-right: 0.25em;color: #696969;}#sk-container-id-1 label.sk-toggleable__label-arrow:hover:before {color: black;}#sk-container-id-1 div.sk-estimator:hover label.sk-toggleable__label-arrow:before {color: black;}#sk-container-id-1 div.sk-toggleable__content {max-height: 0;max-width: 0;overflow: hidden;text-align: left;background-color: #f0f8ff;}#sk-container-id-1 div.sk-toggleable__content pre {margin: 0.2em;color: black;border-radius: 0.25em;background-color: #f0f8ff;}#sk-container-id-1 input.sk-toggleable__control:checked~div.sk-toggleable__content {max-height: 200px;max-width: 100%;overflow: auto;}#sk-container-id-1 input.sk-toggleable__control:checked~label.sk-toggleable__label-arrow:before {content: \"▾\";}#sk-container-id-1 div.sk-estimator input.sk-toggleable__control:checked~label.sk-toggleable__label {background-color: #d4ebff;}#sk-container-id-1 div.sk-label input.sk-toggleable__control:checked~label.sk-toggleable__label {background-color: #d4ebff;}#sk-container-id-1 input.sk-hidden--visually {border: 0;clip: rect(1px 1px 1px 1px);clip: rect(1px, 1px, 1px, 1px);height: 1px;margin: -1px;overflow: hidden;padding: 0;position: absolute;width: 1px;}#sk-container-id-1 div.sk-estimator {font-family: monospace;background-color: #f0f8ff;border: 1px dotted black;border-radius: 0.25em;box-sizing: border-box;margin-bottom: 0.5em;}#sk-container-id-1 div.sk-estimator:hover {background-color: #d4ebff;}#sk-container-id-1 div.sk-parallel-item::after {content: \"\";width: 100%;border-bottom: 1px solid gray;flex-grow: 1;}#sk-container-id-1 div.sk-label:hover label.sk-toggleable__label {background-color: #d4ebff;}#sk-container-id-1 div.sk-serial::before {content: \"\";position: absolute;border-left: 1px solid gray;box-sizing: border-box;top: 0;bottom: 0;left: 50%;z-index: 0;}#sk-container-id-1 div.sk-serial {display: flex;flex-direction: column;align-items: center;background-color: white;padding-right: 0.2em;padding-left: 0.2em;position: relative;}#sk-container-id-1 div.sk-item {position: relative;z-index: 1;}#sk-container-id-1 div.sk-parallel {display: flex;align-items: stretch;justify-content: center;background-color: white;position: relative;}#sk-container-id-1 div.sk-item::before, #sk-container-id-1 div.sk-parallel-item::before {content: \"\";position: absolute;border-left: 1px solid gray;box-sizing: border-box;top: 0;bottom: 0;left: 50%;z-index: -1;}#sk-container-id-1 div.sk-parallel-item {display: flex;flex-direction: column;z-index: 1;position: relative;background-color: white;}#sk-container-id-1 div.sk-parallel-item:first-child::after {align-self: flex-end;width: 50%;}#sk-container-id-1 div.sk-parallel-item:last-child::after {align-self: flex-start;width: 50%;}#sk-container-id-1 div.sk-parallel-item:only-child::after {width: 0;}#sk-container-id-1 div.sk-dashed-wrapped {border: 1px dashed gray;margin: 0 0.4em 0.5em 0.4em;box-sizing: border-box;padding-bottom: 0.4em;background-color: white;}#sk-container-id-1 div.sk-label label {font-family: monospace;font-weight: bold;display: inline-block;line-height: 1.2em;}#sk-container-id-1 div.sk-label-container {text-align: center;}#sk-container-id-1 div.sk-container {/* jupyter's `normalize.less` sets `[hidden] { display: none; }` but bootstrap.min.css set `[hidden] { display: none !important; }` so we also need the `!important` here to be able to override the default hidden behavior on the sphinx rendered scikit-learn.org. See: https://github.com/scikit-learn/scikit-learn/issues/21755 */display: inline-block !important;position: relative;}#sk-container-id-1 div.sk-text-repr-fallback {display: none;}</style><div id=\"sk-container-id-1\" class=\"sk-top-container\"><div class=\"sk-text-repr-fallback\"><pre>RandomForestClassifier()</pre><b>In a Jupyter environment, please rerun this cell to show the HTML representation or trust the notebook. <br />On GitHub, the HTML representation is unable to render, please try loading this page with nbviewer.org.</b></div><div class=\"sk-container\" hidden><div class=\"sk-item\"><div class=\"sk-estimator sk-toggleable\"><input class=\"sk-toggleable__control sk-hidden--visually\" id=\"sk-estimator-id-1\" type=\"checkbox\" checked><label for=\"sk-estimator-id-1\" class=\"sk-toggleable__label sk-toggleable__label-arrow\">RandomForestClassifier</label><div class=\"sk-toggleable__content\"><pre>RandomForestClassifier()</pre></div></div></div></div></div>"
            ]
          },
          "metadata": {},
          "execution_count": 27
        }
      ]
    },
    {
      "cell_type": "markdown",
      "source": [
        "##**Predictions**##"
      ],
      "metadata": {
        "id": "5HLQXV3foCJ2"
      }
    },
    {
      "cell_type": "code",
      "source": [
        "y_pred = model.predict(x_test)"
      ],
      "metadata": {
        "id": "wB1VbdvTjLtj"
      },
      "execution_count": 28,
      "outputs": []
    },
    {
      "cell_type": "code",
      "source": [
        "y_pred"
      ],
      "metadata": {
        "colab": {
          "base_uri": "https://localhost:8080/"
        },
        "id": "QT8g11OKjYUA",
        "outputId": "bbc386fc-04bf-4148-ba65-81b63ce883d1"
      },
      "execution_count": 29,
      "outputs": [
        {
          "output_type": "execute_result",
          "data": {
            "text/plain": [
              "array([3, 5, 3, 9, 7, 8, 1, 6, 5, 4, 3, 9, 2, 5, 8, 1, 2, 6, 0, 6, 6, 7,\n",
              "       5, 3, 0, 2, 9, 8, 5, 2, 2, 9, 5, 2, 9, 1, 3, 3, 5, 5, 2, 8, 1, 2,\n",
              "       1, 1, 9, 3, 5, 2, 9, 6, 4, 6, 7, 1, 2, 1, 4, 5, 4, 8, 7, 0, 2, 6,\n",
              "       8, 5, 2, 7, 8, 4, 4, 4, 0, 9, 2, 6, 0, 5, 0, 0, 8, 1, 0, 9, 1, 3,\n",
              "       3, 4, 3, 8, 2, 4, 3, 9, 5, 1, 2, 7, 8, 1, 4, 0, 5, 2, 9, 8, 1, 1,\n",
              "       7, 1, 2, 4, 8, 6, 7, 3, 3, 7, 1, 4, 1, 8, 5, 9, 5, 5, 4, 4, 1, 4,\n",
              "       5, 2, 4, 3, 1, 0, 7, 8, 9, 1, 6, 5, 6, 6, 4, 6, 2, 8, 8, 2, 3, 5,\n",
              "       1, 9, 3, 2, 7, 1, 9, 0, 7, 2, 4, 8, 8, 1, 6, 4, 0, 0, 2, 0, 2, 0,\n",
              "       2, 3, 8, 5, 3, 5, 3, 2, 2, 0, 3, 0, 9, 7, 9, 4, 1, 4, 6, 5, 5, 4,\n",
              "       4, 8, 0, 0, 0, 9, 3, 1, 8, 8, 2, 4, 8, 0, 4, 8, 7, 6, 2, 9, 4, 0,\n",
              "       5, 6, 0, 1, 2, 4, 1, 7, 6, 7, 7, 9, 4, 9, 8, 5, 9, 2, 3, 9, 8, 7,\n",
              "       1, 7, 2, 6, 1, 0, 1, 6, 0, 3, 4, 4, 2, 0, 5, 4, 6, 6, 9, 0, 3, 0,\n",
              "       8, 3, 5, 3, 1, 1, 8, 7, 0, 8, 2, 0, 7, 9, 4, 8, 7, 0, 7, 5, 8, 6,\n",
              "       2, 3, 7, 9, 5, 2, 3, 8, 1, 5, 2, 3, 7, 8, 7, 3, 2, 5, 3, 6, 5, 1,\n",
              "       3, 5, 5, 2, 0, 0, 9, 9, 5, 2, 0, 5, 0, 9, 4, 8, 7, 6, 0, 3, 9, 0,\n",
              "       0, 5, 0, 8, 5, 0, 4, 2, 7, 6, 2, 2, 4, 4, 5, 7, 3, 6, 7, 2, 7, 0,\n",
              "       9, 1, 5, 6, 2, 1, 5, 9, 7, 7, 2, 0, 6, 7, 1, 6, 1, 4, 6, 1, 1, 0,\n",
              "       3, 0, 8, 1, 7, 3, 6, 5, 6, 3, 6, 1, 5, 7, 7, 7, 9, 1, 9, 7, 6, 2,\n",
              "       5, 0, 4, 5, 9, 8, 5, 6, 9, 5, 9, 4, 2, 5, 7, 6, 6, 7, 2, 0, 8, 7,\n",
              "       2, 6, 4, 9, 7, 8, 0, 8, 1, 3, 9, 4, 6, 8, 6, 2, 4, 6, 4, 0, 5, 6,\n",
              "       9, 0, 2, 3, 4, 2, 9, 3, 3, 0, 6, 5, 9, 8, 3, 6, 9, 5, 6, 5, 6, 3,\n",
              "       5, 3, 3, 6, 1, 0, 5, 8, 2, 8, 3, 2, 1, 9, 1, 1, 3, 8, 6, 6, 4, 1,\n",
              "       6, 8, 8, 8, 0, 3, 9, 9, 4, 7, 0, 7, 9, 2, 7, 4, 6, 8, 5, 0, 0, 6,\n",
              "       0, 9, 1, 1, 3, 4, 9, 4, 4, 1, 0, 1, 3, 3, 0, 0, 9, 3, 8, 5, 7, 2,\n",
              "       1, 0, 0, 2, 7, 7, 9, 1, 4, 8, 6, 3])"
            ]
          },
          "metadata": {},
          "execution_count": 29
        }
      ]
    },
    {
      "cell_type": "markdown",
      "source": [
        "##**Model Accuracy**##"
      ],
      "metadata": {
        "id": "1Qto_u1xoSAs"
      }
    },
    {
      "cell_type": "code",
      "source": [
        "from sklearn.metrics import confusion_matrix, classification_report"
      ],
      "metadata": {
        "id": "qx6oR-TnjaHp"
      },
      "execution_count": 30,
      "outputs": []
    },
    {
      "cell_type": "code",
      "source": [
        "confusion_matrix(y_test, y_pred)"
      ],
      "metadata": {
        "colab": {
          "base_uri": "https://localhost:8080/"
        },
        "id": "uHLVnLFmjm28",
        "outputId": "6f0b9ded-9190-4a5f-cdbf-c323096335e1"
      },
      "execution_count": 31,
      "outputs": [
        {
          "output_type": "execute_result",
          "data": {
            "text/plain": [
              "array([[61,  0,  0,  0,  0,  0,  0,  0,  0,  0],\n",
              "       [ 0, 54,  0,  0,  0,  0,  0,  0,  0,  0],\n",
              "       [ 0,  0, 58,  0,  0,  0,  0,  0,  0,  0],\n",
              "       [ 0,  0,  0, 52,  0,  0,  0,  0,  2,  0],\n",
              "       [ 0,  0,  0,  0, 51,  0,  0,  0,  0,  0],\n",
              "       [ 0,  0,  0,  0,  0, 56,  0,  0,  2,  1],\n",
              "       [ 0,  0,  0,  0,  0,  0, 54,  0,  0,  0],\n",
              "       [ 0,  0,  0,  0,  0,  0,  0, 49,  1,  1],\n",
              "       [ 0,  1,  0,  0,  0,  0,  0,  0, 46,  1],\n",
              "       [ 0,  0,  0,  1,  0,  1,  0,  0,  0, 48]])"
            ]
          },
          "metadata": {},
          "execution_count": 31
        }
      ]
    },
    {
      "cell_type": "code",
      "source": [
        "print(classification_report(y_test, y_pred))"
      ],
      "metadata": {
        "colab": {
          "base_uri": "https://localhost:8080/"
        },
        "id": "MwmRhnwIjsbJ",
        "outputId": "35a036d9-f5cd-4358-d76a-b5980d9bae02"
      },
      "execution_count": 32,
      "outputs": [
        {
          "output_type": "stream",
          "name": "stdout",
          "text": [
            "              precision    recall  f1-score   support\n",
            "\n",
            "           0       1.00      1.00      1.00        61\n",
            "           1       0.98      1.00      0.99        54\n",
            "           2       1.00      1.00      1.00        58\n",
            "           3       0.98      0.96      0.97        54\n",
            "           4       1.00      1.00      1.00        51\n",
            "           5       0.98      0.95      0.97        59\n",
            "           6       1.00      1.00      1.00        54\n",
            "           7       1.00      0.96      0.98        51\n",
            "           8       0.90      0.96      0.93        48\n",
            "           9       0.94      0.96      0.95        50\n",
            "\n",
            "    accuracy                           0.98       540\n",
            "   macro avg       0.98      0.98      0.98       540\n",
            "weighted avg       0.98      0.98      0.98       540\n",
            "\n"
          ]
        }
      ]
    }
  ]
}